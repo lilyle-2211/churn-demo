{
 "cells": [
  {
   "cell_type": "markdown",
   "id": "9cbec147",
   "metadata": {},
   "source": [
    "# Survival Analysis for Churn Prediction\n",
    "\n",
    "This notebook demonstrates how to use survival analysis (Cox Proportional Hazards) for churn prediction.\n",
    "\n",
    "## Key Differences from Classification:\n",
    "- **One row per user** (instead of one row per payment)\n",
    "- **Time-to-event** (duration in days until churn)\n",
    "- **Censoring** (users still active have censored observations)\n",
    "- **Hazard ratios** (interpretable risk factors)"
   ]
  },
  {
   "cell_type": "code",
   "execution_count": null,
   "id": "701eea2f",
   "metadata": {},
   "outputs": [],
   "source": [
    "import pandas as pd\n",
    "import numpy as np\n",
    "from google.cloud import bigquery\n",
    "import matplotlib.pyplot as plt\n",
    "import seaborn as sns\n",
    "\n",
    "# Survival analysis libraries\n",
    "from lifelines import CoxPHFitter, KaplanMeierFitter\n",
    "from lifelines.statistics import logrank_test\n",
    "from lifelines.utils import median_survival_times\n",
    "\n",
    "sns.set_style('whitegrid')\n",
    "%matplotlib inline"
   ]
  },
  {
   "cell_type": "markdown",
   "id": "43926913",
   "metadata": {},
   "source": [
    "## 1. Load Survival Data from BigQuery"
   ]
  },
  {
   "cell_type": "code",
   "execution_count": null,
   "id": "c97bc151",
   "metadata": {},
   "outputs": [],
   "source": [
    "client = bigquery.Client(project='lily-demo-ml')\n",
    "query = \"SELECT * FROM `lily-demo-ml.churn.survival_input`\"\n",
    "df = client.query(query).to_dataframe()\n",
    "\n",
    "print(f\"Total users: {len(df)}\")\n",
    "print(f\"Churned: {df['churned'].sum()} ({df['churned'].mean():.1%})\")\n",
    "print(f\"Censored: {(1-df['churned']).sum()} ({(1-df['churned']).mean():.1%})\")\n",
    "df.head()"
   ]
  },
  {
   "cell_type": "markdown",
   "id": "991575d5",
   "metadata": {},
   "source": [
    "## 2. Exploratory Data Analysis"
   ]
  },
  {
   "cell_type": "code",
   "execution_count": null,
   "id": "e168aa1a",
   "metadata": {},
   "outputs": [],
   "source": [
    "# Distribution of duration\n",
    "fig, axes = plt.subplots(1, 2, figsize=(14, 5))\n",
    "\n",
    "# Duration by status\n",
    "df.groupby('status')['duration_days'].hist(bins=50, ax=axes[0], alpha=0.7)\n",
    "axes[0].set_xlabel('Duration (days)')\n",
    "axes[0].set_ylabel('Count')\n",
    "axes[0].set_title('Distribution of Time-to-Event by Status')\n",
    "axes[0].legend(['Censored', 'Churned'])\n",
    "\n",
    "# Summary statistics\n",
    "summary = df.groupby('status')['duration_days'].describe()\n",
    "print(\"\\nDuration Statistics by Status:\")\n",
    "print(summary)"
   ]
  },
  {
   "cell_type": "markdown",
   "id": "abe048e1",
   "metadata": {},
   "source": [
    "## 3. Kaplan-Meier Survival Curves"
   ]
  },
  {
   "cell_type": "code",
   "execution_count": null,
   "id": "602c09b0",
   "metadata": {},
   "outputs": [],
   "source": [
    "# Overall survival curve\n",
    "kmf = KaplanMeierFitter()\n",
    "kmf.fit(df['duration_days'], df['churned'], label='All Users')\n",
    "\n",
    "plt.figure(figsize=(10, 6))\n",
    "kmf.plot_survival_function()\n",
    "plt.title('Kaplan-Meier Survival Curve')\n",
    "plt.ylabel('Probability of Retention')\n",
    "plt.xlabel('Days Since First Payment')\n",
    "plt.grid(True, alpha=0.3)\n",
    "\n",
    "# Median survival time\n",
    "median_survival = kmf.median_survival_time_\n",
    "print(f\"\\nMedian customer lifetime: {median_survival:.0f} days ({median_survival/30:.1f} months)\")"
   ]
  },
  {
   "cell_type": "markdown",
   "id": "f2e30ddd",
   "metadata": {},
   "source": [
    "## 4. Survival Curves by Feature Groups"
   ]
  },
  {
   "cell_type": "code",
   "execution_count": null,
   "id": "d789b8ae",
   "metadata": {},
   "outputs": [],
   "source": [
    "# Create feature groups (e.g., high vs low f_0)\n",
    "df['f_0_group'] = pd.cut(df['f_0'], bins=3, labels=['Low', 'Medium', 'High'])\n",
    "\n",
    "plt.figure(figsize=(10, 6))\n",
    "for group in ['Low', 'Medium', 'High']:\n",
    "    mask = df['f_0_group'] == group\n",
    "    kmf = KaplanMeierFitter()\n",
    "    kmf.fit(df[mask]['duration_days'], df[mask]['churned'], label=f'f_0: {group}')\n",
    "    kmf.plot_survival_function()\n",
    "\n",
    "plt.title('Survival Curves by f_0 Feature Group')\n",
    "plt.ylabel('Probability of Retention')\n",
    "plt.xlabel('Days Since First Payment')\n",
    "plt.grid(True, alpha=0.3)\n",
    "plt.legend()\n",
    "\n",
    "# Log-rank test\n",
    "low = df[df['f_0_group'] == 'Low']\n",
    "high = df[df['f_0_group'] == 'High']\n",
    "results = logrank_test(low['duration_days'], high['duration_days'], \n",
    "                       low['churned'], high['churned'])\n",
    "print(f\"\\nLog-rank test p-value: {results.p_value:.4f}\")"
   ]
  },
  {
   "cell_type": "markdown",
   "id": "b3571b48",
   "metadata": {},
   "source": [
    "## 5. Cox Proportional Hazards Model"
   ]
  },
  {
   "cell_type": "code",
   "execution_count": null,
   "id": "7c0f1592",
   "metadata": {},
   "outputs": [],
   "source": [
    "# Prepare features\n",
    "features = ['f_0', 'f_1', 'f_2', 'f_3', 'f_4', 'total_payments', 'signup_month']\n",
    "\n",
    "# Train/test split (time-based)\n",
    "df_sorted = df.sort_values('first_payment_date')\n",
    "train_size = int(0.7 * len(df_sorted))\n",
    "df_train = df_sorted.iloc[:train_size].copy()\n",
    "df_test = df_sorted.iloc[train_size:].copy()\n",
    "\n",
    "print(f\"Train: {len(df_train)} users, Test: {len(df_test)} users\")\n",
    "\n",
    "# Fit Cox model\n",
    "cph = CoxPHFitter(penalizer=0.1)\n",
    "cph.fit(df_train[features + ['duration_days', 'churned']], \n",
    "        duration_col='duration_days', \n",
    "        event_col='churned')\n",
    "\n",
    "print(\"\\n\" + \"=\"*60)\n",
    "print(\"Cox Proportional Hazards Model Summary\")\n",
    "print(\"=\"*60)\n",
    "cph.print_summary()"
   ]
  },
  {
   "cell_type": "markdown",
   "id": "cc6e3f81",
   "metadata": {},
   "source": [
    "## 6. Hazard Ratios Interpretation"
   ]
  },
  {
   "cell_type": "code",
   "execution_count": null,
   "id": "14379c68",
   "metadata": {},
   "outputs": [],
   "source": [
    "# Plot hazard ratios\n",
    "plt.figure(figsize=(10, 6))\n",
    "cph.plot()\n",
    "plt.title('Hazard Ratios (95% CI)')\n",
    "plt.axvline(1, color='red', linestyle='--', alpha=0.5, label='No effect')\n",
    "plt.xlabel('Hazard Ratio')\n",
    "plt.legend()\n",
    "plt.tight_layout()\n",
    "\n",
    "print(\"\\nHazard Ratio Interpretation:\")\n",
    "print(\"-\" * 60)\n",
    "for feature in features:\n",
    "    hr = np.exp(cph.params_[feature])\n",
    "    if hr > 1:\n",
    "        print(f\"{feature:20s}: HR={hr:.3f} → {(hr-1)*100:+.1f}% increased churn risk\")\n",
    "    else:\n",
    "        print(f\"{feature:20s}: HR={hr:.3f} → {(1-hr)*100:+.1f}% decreased churn risk\")"
   ]
  },
  {
   "cell_type": "markdown",
   "id": "4c1fbcd8",
   "metadata": {},
   "source": [
    "## 7. Model Evaluation"
   ]
  },
  {
   "cell_type": "code",
   "execution_count": null,
   "id": "44a8013e",
   "metadata": {},
   "outputs": [],
   "source": [
    "# Concordance index (C-index)\n",
    "train_ci = cph.concordance_index_\n",
    "test_ci = cph.score(df_test[features + ['duration_days', 'churned']], scoring_method='concordance_index')\n",
    "\n",
    "print(f\"\\nModel Performance:\")\n",
    "print(f\"Train C-index: {train_ci:.4f}\")\n",
    "print(f\"Test C-index:  {test_ci:.4f}\")\n",
    "print(f\"\\nC-index interpretation: {test_ci:.4f} = {test_ci*100:.1f}% probability that model\")\n",
    "print(f\"correctly ranks pairs of users by their churn risk\")"
   ]
  },
  {
   "cell_type": "markdown",
   "id": "baa2819a",
   "metadata": {},
   "source": [
    "## 8. Survival Predictions for Individual Users"
   ]
  },
  {
   "cell_type": "code",
   "execution_count": null,
   "id": "48fa3454",
   "metadata": {},
   "outputs": [],
   "source": [
    "# Predict survival function for specific users\n",
    "sample_users = df_test[features].head(5)\n",
    "\n",
    "plt.figure(figsize=(12, 6))\n",
    "for idx, row in sample_users.iterrows():\n",
    "    surv_func = cph.predict_survival_function(row.to_frame().T)\n",
    "    plt.plot(surv_func.index, surv_func.values.flatten(), label=f\"User {idx}\")\n",
    "\n",
    "plt.xlabel('Days Since First Payment')\n",
    "plt.ylabel('Survival Probability')\n",
    "plt.title('Predicted Survival Curves for Sample Users')\n",
    "plt.legend()\n",
    "plt.grid(True, alpha=0.3)\n",
    "plt.tight_layout()"
   ]
  },
  {
   "cell_type": "markdown",
   "id": "e72e2dec",
   "metadata": {},
   "source": [
    "## 9. Comparison: Survival vs Classification\n",
    "\n",
    "| Aspect | Survival Analysis | Classification (Current) |\n",
    "|--------|------------------|-------------------------|\n",
    "| **Data structure** | One row per user | One row per payment |\n",
    "| **Target** | Time to churn + event | Binary churn (0/1) |\n",
    "| **Censoring** | Handles naturally | Not applicable |\n",
    "| **Interpretation** | Hazard ratios, median survival | Churn probability |\n",
    "| **Sample size** | ~5K users | ~190K observations |\n",
    "| **Use case** | Lifetime value, risk factors | Monthly intervention |\n",
    "| **Time-varying** | Limited support | Native (months_since_signup) |\n",
    "| **Actionability** | Strategic (long-term) | Tactical (immediate) |\n",
    "\n",
    "### Recommendation:\n",
    "- Use **Classification** for: Monthly churn prediction, targeted interventions\n",
    "- Use **Survival Analysis** for: Understanding customer lifetime, strategic planning, identifying risk factors\n",
    "- **Best approach**: Use both complementarily!"
   ]
  }
 ],
 "metadata": {
  "language_info": {
   "name": "python"
  }
 },
 "nbformat": 4,
 "nbformat_minor": 5
}
